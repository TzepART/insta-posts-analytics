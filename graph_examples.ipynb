{
 "cells": [
  {
   "cell_type": "code",
   "execution_count": 165,
   "metadata": {
    "collapsed": true
   },
   "outputs": [],
   "source": [
    "# https://pyvis.readthedocs.io/en/latest/tutorial.html#getting-started\n",
    "from pyvis.network import Network\n",
    "import psycopg2\n",
    "import pandas.io.sql as sqlio"
   ]
  },
  {
   "cell_type": "code",
   "execution_count": 166,
   "outputs": [],
   "source": [
    "conn = psycopg2.connect(\n",
    "    dbname='dbname',\n",
    "    user='dbuser',\n",
    "    password='dbpwd',\n",
    "    host='localhost',\n",
    "    port='15432'\n",
    ")\n",
    "cursor = conn.cursor()"
   ],
   "metadata": {
    "collapsed": false,
    "pycharm": {
     "name": "#%%\n"
    }
   }
  },
  {
   "cell_type": "code",
   "execution_count": 167,
   "outputs": [],
   "source": [
    "df = sqlio.read_sql_query(\"\"\"\n",
    "select h1.hashtag as hashtag_1, h2.hashtag as hashtag_2, hr.distance\n",
    "from (select ph1.hashtag_id as hashtag_id_1, ph2.hashtag_id as hashtag_id_2, count(ph1.post_id) as distance\n",
    "      from (select ph.*\n",
    "            from post_hashtag ph\n",
    "                     join post p on p.id = ph.post_id\n",
    "            where p.main_tag = 'digitalfashion') ph1\n",
    "               join post_hashtag ph2 on ph1.post_id = ph2.post_id\n",
    "      where ph1.hashtag_id != ph2.hashtag_id\n",
    "      group by ph1.hashtag_id, ph2.hashtag_id\n",
    "      order by distance DESC) hr\n",
    "         join hashtag h1 on hr.hashtag_id_1 = h1.id\n",
    "         join hashtag h2 on hr.hashtag_id_2 = h2.id\n",
    "where hr.distance > 20\n",
    "order by hr.distance DESC\n",
    "limit 14000;\n",
    "\"\"\", conn)"
   ],
   "metadata": {
    "collapsed": false,
    "pycharm": {
     "name": "#%%\n"
    }
   }
  },
  {
   "cell_type": "code",
   "execution_count": 175,
   "outputs": [
    {
     "data": {
      "text/plain": "        hashtag_1       hashtag_2  distance\n0      digitalart  digitalfashion      2124\n1  digitalfashion      digitalart      2124\n2  digitalfashion             nft      1932\n3             nft  digitalfashion      1932\n4         fashion  digitalfashion      1491\n5  digitalfashion         fashion      1491\n6  digitalfashion          nftart      1352\n7          nftart  digitalfashion      1352\n8          nftart             nft      1254\n9             nft          nftart      1254",
      "text/html": "<div>\n<style scoped>\n    .dataframe tbody tr th:only-of-type {\n        vertical-align: middle;\n    }\n\n    .dataframe tbody tr th {\n        vertical-align: top;\n    }\n\n    .dataframe thead th {\n        text-align: right;\n    }\n</style>\n<table border=\"1\" class=\"dataframe\">\n  <thead>\n    <tr style=\"text-align: right;\">\n      <th></th>\n      <th>hashtag_1</th>\n      <th>hashtag_2</th>\n      <th>distance</th>\n    </tr>\n  </thead>\n  <tbody>\n    <tr>\n      <th>0</th>\n      <td>digitalart</td>\n      <td>digitalfashion</td>\n      <td>2124</td>\n    </tr>\n    <tr>\n      <th>1</th>\n      <td>digitalfashion</td>\n      <td>digitalart</td>\n      <td>2124</td>\n    </tr>\n    <tr>\n      <th>2</th>\n      <td>digitalfashion</td>\n      <td>nft</td>\n      <td>1932</td>\n    </tr>\n    <tr>\n      <th>3</th>\n      <td>nft</td>\n      <td>digitalfashion</td>\n      <td>1932</td>\n    </tr>\n    <tr>\n      <th>4</th>\n      <td>fashion</td>\n      <td>digitalfashion</td>\n      <td>1491</td>\n    </tr>\n    <tr>\n      <th>5</th>\n      <td>digitalfashion</td>\n      <td>fashion</td>\n      <td>1491</td>\n    </tr>\n    <tr>\n      <th>6</th>\n      <td>digitalfashion</td>\n      <td>nftart</td>\n      <td>1352</td>\n    </tr>\n    <tr>\n      <th>7</th>\n      <td>nftart</td>\n      <td>digitalfashion</td>\n      <td>1352</td>\n    </tr>\n    <tr>\n      <th>8</th>\n      <td>nftart</td>\n      <td>nft</td>\n      <td>1254</td>\n    </tr>\n    <tr>\n      <th>9</th>\n      <td>nft</td>\n      <td>nftart</td>\n      <td>1254</td>\n    </tr>\n  </tbody>\n</table>\n</div>"
     },
     "metadata": {},
     "output_type": "display_data"
    }
   ],
   "source": [
    "display(df.head(10))"
   ],
   "metadata": {
    "collapsed": false,
    "pycharm": {
     "name": "#%%\n"
    }
   }
  },
  {
   "cell_type": "code",
   "execution_count": 169,
   "outputs": [],
   "source": [
    "got_net = Network(height='1200px', width='100%', bgcolor='#222222', font_color='white')\n",
    "got_net.show_buttons()"
   ],
   "metadata": {
    "collapsed": false,
    "pycharm": {
     "name": "#%%\n"
    }
   }
  },
  {
   "cell_type": "code",
   "execution_count": 170,
   "outputs": [],
   "source": [
    "# set the physics layout of the network\n",
    "got_net.barnes_hut()\n",
    "\n",
    "sources = df['hashtag_1']\n",
    "targets = df['hashtag_2']\n",
    "weights = df['distance']\n",
    "\n",
    "edge_data = zip(sources, targets, weights)"
   ],
   "metadata": {
    "collapsed": false,
    "pycharm": {
     "name": "#%%\n"
    }
   }
  },
  {
   "cell_type": "code",
   "execution_count": 171,
   "outputs": [],
   "source": [
    "for e in edge_data:\n",
    "    src = e[0]\n",
    "    dst = e[1]\n",
    "    w = e[2]\n",
    "\n",
    "    got_net.add_node(src, src, title=src)\n",
    "    got_net.add_node(dst, dst, title=dst)\n",
    "    got_net.add_edge(src, dst, value=w)"
   ],
   "metadata": {
    "collapsed": false,
    "pycharm": {
     "name": "#%%\n"
    }
   }
  },
  {
   "cell_type": "code",
   "execution_count": 172,
   "outputs": [],
   "source": [
    "neighbor_map = got_net.get_adj_list()\n",
    "\n",
    "# add neighbor data to node hover data\n",
    "for node in got_net.nodes:\n",
    "    node['title'] += ' Neighbors:<br>' + '<br>'.join(neighbor_map[node['id']])\n",
    "    node['value'] = len(neighbor_map[node['id']])"
   ],
   "metadata": {
    "collapsed": false,
    "pycharm": {
     "name": "#%%\n"
    }
   }
  },
  {
   "cell_type": "code",
   "execution_count": 173,
   "outputs": [],
   "source": [
    "got_net.show('insta_analytics_digitalfashion.html')"
   ],
   "metadata": {
    "collapsed": false,
    "pycharm": {
     "name": "#%%\n"
    }
   }
  },
  {
   "cell_type": "code",
   "execution_count": 173,
   "outputs": [],
   "source": [],
   "metadata": {
    "collapsed": false,
    "pycharm": {
     "name": "#%%\n"
    }
   }
  }
 ],
 "metadata": {
  "kernelspec": {
   "display_name": "Python 3",
   "language": "python",
   "name": "python3"
  },
  "language_info": {
   "codemirror_mode": {
    "name": "ipython",
    "version": 2
   },
   "file_extension": ".py",
   "mimetype": "text/x-python",
   "name": "python",
   "nbconvert_exporter": "python",
   "pygments_lexer": "ipython2",
   "version": "2.7.6"
  }
 },
 "nbformat": 4,
 "nbformat_minor": 0
}